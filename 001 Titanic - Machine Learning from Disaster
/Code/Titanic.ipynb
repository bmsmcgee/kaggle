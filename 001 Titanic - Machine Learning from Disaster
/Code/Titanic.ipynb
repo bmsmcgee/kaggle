{
 "cells": [
  {
   "cell_type": "markdown",
   "metadata": {},
   "source": [
    "# Titanic - Machine Learning from Disaster"
   ]
  },
  {
   "cell_type": "code",
   "execution_count": 32,
   "metadata": {},
   "outputs": [],
   "source": [
    "from pathlib import Path\n",
    "\n",
    "# Set Path to store competition files\n",
    "_DATA_PATH = Path('../Data')"
   ]
  },
  {
   "cell_type": "code",
   "execution_count": 33,
   "metadata": {},
   "outputs": [],
   "source": [
    "from zipfile import ZipFile\n",
    "\n",
    "# Function to get competition files using Kaggle API\n",
    "def get_competition_files(competition: str, path: Path) -> None:\n",
    "  try:\n",
    "    import kaggle\n",
    "    kaggle.api.authenticate()\n",
    "    kaggle.api.competition_download_files(competition, path=path)\n",
    "  except ModuleNotFoundError as e:\n",
    "    print(\"Kaggle not installed, use 'pip install kaggle' or 'conda install -c conda-forge kaggle' and restart Jupyter kernel. Otherwise, download data and place in folder above manually\")\n",
    "    print(e.message())\n",
    "  except Exception as e:\n",
    "    raise e\n",
    "  \n",
    "# Function to unzip files\n",
    "def unzip_competition(path: Path, fname: str) -> None:\n",
    "  with ZipFile(path / fname, 'r') as handle:\n",
    "    handle.extractall(path)"
   ]
  },
  {
   "cell_type": "code",
   "execution_count": 37,
   "metadata": {},
   "outputs": [
    {
     "name": "stdout",
     "output_type": "stream",
     "text": [
      "Competition files already present\n"
     ]
    }
   ],
   "source": [
    "import os\n",
    "\n",
    "# If there are no files in the folder, get them\n",
    "if len(os.listdir(\"../Data\")) < 3:\n",
    "  get_competition_files('Titanic', _DATA_PATH)\n",
    "  unzip_competition(_DATA_PATH, 'Titanic.zip')\n",
    "  os.remove(f'{_DATA_PATH}/Titanic.zip')\n",
    "else:\n",
    "  print(f'Competition files already present')"
   ]
  }
 ],
 "metadata": {
  "kernelspec": {
   "display_name": "Python 3",
   "language": "python",
   "name": "python3"
  },
  "language_info": {
   "codemirror_mode": {
    "name": "ipython",
    "version": 3
   },
   "file_extension": ".py",
   "mimetype": "text/x-python",
   "name": "python",
   "nbconvert_exporter": "python",
   "pygments_lexer": "ipython3",
   "version": "3.12.2"
  }
 },
 "nbformat": 4,
 "nbformat_minor": 2
}
