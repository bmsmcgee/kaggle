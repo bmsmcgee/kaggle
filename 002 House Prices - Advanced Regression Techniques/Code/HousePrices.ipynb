{
 "cells": [
  {
   "cell_type": "markdown",
   "metadata": {},
   "source": [
    "# Comprehensive Data Exploration with Python\n",
    "\n",
    "**Reference**: [Comprehensive data exploration with Python](https://www.kaggle.com/code/pmarcelino/comprehensive-data-exploration-with-python)\n",
    "\n",
    "Steps to completion:\n",
    "  1. **Understanding the Problem**: Look at each variable and do a philosophical analysis about their meaning and importance for this problem.\n",
    "  2. **Univariable Study**: Focus on the _dependent_ variable ('`SalePrice`') and try to know more about it.\n",
    "  3. **Multivariable Study**: Understand how the dependent variable and independent variables are related.\n",
    "  4. **Basic Cleaning**: Clean the dataset and handle missing data, outliers, and categorical variables.\n",
    "  5. **Test Assumptions**: Check if the data meets the assumptions required by most multivariate techniques."
   ]
  },
  {
   "cell_type": "code",
   "execution_count": null,
   "metadata": {},
   "outputs": [],
   "source": [
    "# Libraries\n",
    "\n",
    "import pandas as pd\n",
    "import numpy as np\n",
    "import seaborn as sns\n",
    "import matplotlib.pyplot as plt\n",
    "%matplotlib inline"
   ]
  }
 ],
 "metadata": {
  "kernelspec": {
   "display_name": "Python 3",
   "language": "python",
   "name": "python3"
  },
  "language_info": {
   "name": "python",
   "version": "3.12.2"
  }
 },
 "nbformat": 4,
 "nbformat_minor": 2
}
